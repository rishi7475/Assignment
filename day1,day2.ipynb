{
  "nbformat": 4,
  "nbformat_minor": 0,
  "metadata": {
    "colab": {
      "provenance": []
    },
    "kernelspec": {
      "name": "python3",
      "display_name": "Python 3"
    },
    "language_info": {
      "name": "python"
    }
  },
  "cells": [
    {
      "cell_type": "code",
      "execution_count": 5,
      "metadata": {
        "colab": {
          "base_uri": "https://localhost:8080/"
        },
        "id": "34ssYvVCzqO4",
        "outputId": "5ced5549-9d28-42bb-d2f5-d209995ff79c"
      },
      "outputs": [
        {
          "output_type": "stream",
          "name": "stdout",
          "text": [
            "Integer variable: 10\n",
            "Type of integer_var: <class 'int'>\n",
            "Float variable: 20.5\n",
            "Type of float_var: <class 'float'>\n",
            "String variable: Hello, World!\n",
            "Type of string_var: <class 'str'>\n",
            "Boolean variable: True\n",
            "Type of boolean_var: <class 'bool'>\n"
          ]
        }
      ],
      "source": [
        "# 1) Write a program in Jupyter Notebook to declare variables of different data types (integer, float, string, and boolean).\n",
        "# Print each variable and its type.\n",
        "\n",
        "integerNum = 10\n",
        "floatNum = 20.5\n",
        "string = \"Hello, World!\"\n",
        "boolean = True\n",
        "print(\"Integer variable:\", integerNum)\n",
        "print(\"Type of integer_var:\", type(integerNum))\n",
        "\n",
        "print(\"Float variable:\", floatNum)\n",
        "print(\"Type of float_var:\", type(floatNum))\n",
        "\n",
        "print(\"String variable:\", string)\n",
        "print(\"Type of string_var:\", type(string))\n",
        "\n",
        "print(\"Boolean variable:\", boolean)\n",
        "print(\"Type of boolean_var:\", type(boolean))\n"
      ]
    },
    {
      "cell_type": "code",
      "source": [
        "#2) Create a List, tuple and Dictionary with 5 elements in it and how to access few elements based on the index.\n",
        "# Try  with different examples\n",
        "\n",
        "list_new = [10, 20, 30, 40, 50]\n",
        "tuple_new = (1, 2, 3, 4, 5)\n",
        "dic = {'name': 'Alice', 'age': 25, 'city': 'New York', 'occupation': 'Engineer', 'status': 'Active'}\n",
        "list_element_at_index_2 = list_new[2]\n",
        "tuple_element_at_index_3 = tuple_new[3]\n",
        "dict_element_for_key_name = dic['name']\n",
        "dict_element_for_key_age = dic['age']\n",
        "print(\"Element at index 2 of the List:\", list_element_at_index_2)\n",
        "print(\"Element at index 3 of the Tuple:\", tuple_element_at_index_3)\n",
        "print(\"Element for the key 'name' in the Dictionary:\", dict_element_for_key_name)\n",
        "print(\"Element for the key 'age' in the Dictionary:\", dict_element_for_key_age)"
      ],
      "metadata": {
        "colab": {
          "base_uri": "https://localhost:8080/"
        },
        "id": "km88cyvk0C29",
        "outputId": "f54e6012-a2ce-4d25-ed30-eaef2f17b063"
      },
      "execution_count": 7,
      "outputs": [
        {
          "output_type": "stream",
          "name": "stdout",
          "text": [
            "Element at index 2 of the List: 30\n",
            "Element at index 3 of the Tuple: 4\n",
            "Element for the key 'name' in the Dictionary: Alice\n",
            "Element for the key 'age' in the Dictionary: 25\n"
          ]
        }
      ]
    },
    {
      "cell_type": "code",
      "source": [],
      "metadata": {
        "id": "l6td7zJ_0pQw"
      },
      "execution_count": null,
      "outputs": []
    }
  ]
}