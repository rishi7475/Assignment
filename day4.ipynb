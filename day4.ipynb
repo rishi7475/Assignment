{
  "nbformat": 4,
  "nbformat_minor": 0,
  "metadata": {
    "colab": {
      "provenance": []
    },
    "kernelspec": {
      "name": "python3",
      "display_name": "Python 3"
    },
    "language_info": {
      "name": "python"
    }
  },
  "cells": [
    {
      "cell_type": "code",
      "execution_count": 1,
      "metadata": {
        "colab": {
          "base_uri": "https://localhost:8080/"
        },
        "id": "1OOsU91cDVwC",
        "outputId": "6a4e4b24-a52c-4068-ce11-ec991d3f48f6"
      },
      "outputs": [
        {
          "output_type": "stream",
          "name": "stdout",
          "text": [
            "Enter a positive integer: 5\n",
            "The sum of all even numbers between 1 and 5 is: 6\n"
          ]
        }
      ],
      "source": [
        "#day4.Write a Python program to calculate the sum of all even numbers between 1 and a given positive integer n\n",
        "\n",
        "def even(n):\n",
        "    total = 0\n",
        "    for i in range(2, n+1, 2):\n",
        "        total += i\n",
        "    return total\n",
        "n = int(input(\"Enter a positive integer: \"))\n",
        "if n > 0:\n",
        "    result = even(n)\n",
        "    print(f\"The sum of all even numbers between 1 and {n} is: {result}\")\n",
        "else:\n",
        "    print(\"Please enter a positive integer.\")"
      ]
    }
  ]
}