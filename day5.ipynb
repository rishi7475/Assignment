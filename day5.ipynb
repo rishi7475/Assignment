{
  "cells": [
    {
      "cell_type": "code",
      "execution_count": null,
      "metadata": {
        "colab": {
          "base_uri": "https://localhost:8080/"
        },
        "id": "6ZkTj1wG170J",
        "outputId": "67d11d24-23be-487c-f094-196f2b5fc9c0"
      },
      "outputs": [
        {
          "name": "stdout",
          "output_type": "stream",
          "text": [
            "Word Frequency Count:\n",
            "this: 1\n",
            "is: 1\n",
            "a: 2\n",
            "sample: 1\n",
            "text: 1\n",
            "it: 1\n",
            "counts: 1\n",
            "the: 1\n",
            "total: 1\n",
            "number: 1\n",
            "of: 1\n",
            "times: 1\n",
            "word: 1\n",
            "occurs: 1\n"
          ]
        }
      ],
      "source": [
        "#5) write a python program to calculate the frequency of each word in a given text.\n",
        "# print the word and their corresponding counts.\n",
        "\n",
        "from collections import Counter\n",
        "import re\n",
        "text = \"\"\"This is a sample text. It counts the total number of times a word occurs.\"\"\"\n",
        "cleaned_text = re.sub(r'[^\\w\\s]', '', text.lower())\n",
        "words = cleaned_text.split()\n",
        "word_counts = Counter(words)\n",
        "print(\"Word Frequency Count:\")\n",
        "for word, count in word_counts.items():\n",
        "    print(f\"{word}: {count}\")"
      ]
    },
    {
      "cell_type": "code",
      "execution_count": null,
      "metadata": {
        "id": "rQAzw9nu2nmV"
      },
      "outputs": [],
      "source": []
    }
  ],
  "metadata": {
    "colab": {
      "provenance": []
    },
    "kernelspec": {
      "display_name": "Python 3",
      "name": "python3"
    },
    "language_info": {
      "name": "python"
    }
  },
  "nbformat": 4,
  "nbformat_minor": 0
}